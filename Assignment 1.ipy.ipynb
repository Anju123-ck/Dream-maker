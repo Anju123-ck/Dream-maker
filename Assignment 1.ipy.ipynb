{
 "cells": [
  {
   "cell_type": "markdown",
   "id": "0e2c39bf",
   "metadata": {},
   "source": [
    "# Read the dataset to python environment"
   ]
  },
  {
   "cell_type": "code",
   "execution_count": 2,
   "id": "c3014753",
   "metadata": {},
   "outputs": [],
   "source": [
    "import pandas as pd\n",
    "import matplotlib.pyplot as plt"
   ]
  },
  {
   "cell_type": "code",
   "execution_count": 2,
   "id": "e1b60295",
   "metadata": {},
   "outputs": [],
   "source": [
    "df=pd.read_excel(\"iris.xls\")"
   ]
  },
  {
   "cell_type": "code",
   "execution_count": 3,
   "id": "b312e419",
   "metadata": {},
   "outputs": [
    {
     "name": "stdout",
     "output_type": "stream",
     "text": [
      "      SL   SW   PL   PW  Classification\n",
      "0    5.1  3.5  1.4  0.2     Iris-setosa\n",
      "1    4.9  3.0  1.4  0.2     Iris-setosa\n",
      "2    4.7  3.2  1.3  0.2     Iris-setosa\n",
      "3    4.6  3.1  1.5  0.2     Iris-setosa\n",
      "4    5.0  3.6  1.4  0.2     Iris-setosa\n",
      "..   ...  ...  ...  ...             ...\n",
      "145  6.7  3.0  5.2  2.3  Iris-virginica\n",
      "146  6.3  2.5  5.0  1.9  Iris-virginica\n",
      "147  6.5  3.0  5.2  2.0  Iris-virginica\n",
      "148  6.2  3.4  5.4  2.3  Iris-virginica\n",
      "149  5.9  3.0  5.1  1.8  Iris-virginica\n",
      "\n",
      "[150 rows x 5 columns]\n"
     ]
    }
   ],
   "source": [
    "print(df)"
   ]
  },
  {
   "cell_type": "markdown",
   "id": "ef7b4a35",
   "metadata": {},
   "source": [
    "# Display the columns in the dataset"
   ]
  },
  {
   "cell_type": "code",
   "execution_count": 19,
   "id": "6f22a14f",
   "metadata": {},
   "outputs": [
    {
     "name": "stdout",
     "output_type": "stream",
     "text": [
      "['SL' 'SW' 'PL' 'PW' 'Classification']\n"
     ]
    }
   ],
   "source": [
    "print(df.columns.values)"
   ]
  },
  {
   "cell_type": "markdown",
   "id": "91c16a9f",
   "metadata": {},
   "source": [
    "# Calculate the mean of each column of the dataset"
   ]
  },
  {
   "cell_type": "code",
   "execution_count": 24,
   "id": "c11eb0b7",
   "metadata": {},
   "outputs": [
    {
     "data": {
      "text/plain": [
       "SL    5.843333\n",
       "SW    3.054000\n",
       "PL    3.758667\n",
       "PW    1.198667\n",
       "dtype: float64"
      ]
     },
     "execution_count": 24,
     "metadata": {},
     "output_type": "execute_result"
    }
   ],
   "source": [
    "df.mean(axis=0)"
   ]
  },
  {
   "cell_type": "markdown",
   "id": "7a49eb0d",
   "metadata": {},
   "source": [
    "# Check for the null values present in the dataset"
   ]
  },
  {
   "cell_type": "code",
   "execution_count": 26,
   "id": "ba2608ae",
   "metadata": {},
   "outputs": [
    {
     "name": "stdout",
     "output_type": "stream",
     "text": [
      "        SL     SW     PL     PW  Classification\n",
      "0    False  False  False  False           False\n",
      "1    False  False  False  False           False\n",
      "2    False  False  False  False           False\n",
      "3    False  False  False  False           False\n",
      "4    False  False  False  False           False\n",
      "..     ...    ...    ...    ...             ...\n",
      "145  False  False  False  False           False\n",
      "146  False  False  False  False           False\n",
      "147  False  False  False  False           False\n",
      "148  False  False  False  False           False\n",
      "149  False  False  False  False           False\n",
      "\n",
      "[150 rows x 5 columns]\n"
     ]
    }
   ],
   "source": [
    "print(df.isnull())"
   ]
  },
  {
   "cell_type": "markdown",
   "id": "24b6e38c",
   "metadata": {},
   "source": [
    "# visualization using the dataset"
   ]
  },
  {
   "cell_type": "markdown",
   "id": "49c85b3e",
   "metadata": {},
   "source": [
    "# 1."
   ]
  },
  {
   "cell_type": "code",
   "execution_count": 43,
   "id": "2b174057",
   "metadata": {},
   "outputs": [
    {
     "data": {
      "text/plain": [
       "Text(0, 0.5, 'values in list y')"
      ]
     },
     "execution_count": 43,
     "metadata": {},
     "output_type": "execute_result"
    },
    {
     "data": {
      "image/png": "[encoded data removed]",
      "text/plain": [
       "<Figure size 432x288 with 1 Axes>"
      ]
     },
     "metadata": {
      "needs_background": "light"
     },
     "output_type": "display_data"
    }
   ],
   "source": [
    "x=df.Classification\n",
    "y=df.SL\n",
    "plt.plot(x,y,)\n",
    "plt.title('classification')\n",
    "plt.xlabel('values in list x')\n",
    "plt.ylabel('values in list y')"
   ]
  },
  {
   "cell_type": "markdown",
   "id": "887ae028",
   "metadata": {},
   "source": [
    "# 2."
   ]
  },
  {
   "cell_type": "code",
   "execution_count": 26,
   "id": "e0d3d336",
   "metadata": {},
   "outputs": [
    {
     "data": {
      "text/plain": [
       "<BarContainer object of 150 artists>"
      ]
     },
     "execution_count": 26,
     "metadata": {},
     "output_type": "execute_result"
    },
    {
     "data": {
      "image/png": "[encoded data removed]",
      "text/plain": [
       "<Figure size 432x288 with 1 Axes>"
      ]
     },
     "metadata": {
      "needs_background": "light"
     },
     "output_type": "display_data"
    }
   ],
   "source": [
    "x=df.Classification\n",
    "y=df.SW\n",
    "plt.title('bar graph')\n",
    "plt.xlabel('values in list x')\n",
    "plt.ylabel('values in list y')\n",
    "plt.bar(x,y,0.5)\n"
   ]
  },
  {
   "cell_type": "markdown",
   "id": "1380a6bc",
   "metadata": {},
   "source": [
    "# 3."
   ]
  },
  {
   "cell_type": "code",
   "execution_count": 42,
   "id": "01625539",
   "metadata": {},
   "outputs": [
    {
     "data": {
      "text/plain": [
       "(array([50.,  0., 50.,  0., 50.]),\n",
       " array([0. , 0.4, 0.8, 1.2, 1.6, 2. ]),\n",
       " <BarContainer object of 5 artists>)"
      ]
     },
     "execution_count": 42,
     "metadata": {},
     "output_type": "execute_result"
    },
    {
     "data": {
      "image/png": "[encoded data removed]",
      "text/plain": [
       "<Figure size 432x288 with 1 Axes>"
      ]
     },
     "metadata": {
      "needs_background": "light"
     },
     "output_type": "display_data"
    }
   ],
   "source": [
    "plt.hist(df.Classification,5)"
   ]
  },
  {
   "cell_type": "code",
   "execution_count": null,
   "id": "81debf30",
   "metadata": {},
   "outputs": [],
   "source": []
  }
 ],
 "metadata": {
  "kernelspec": {
   "display_name": "Python 3",
   "language": "python",
   "name": "python3"
  },
  "language_info": {
   "codemirror_mode": {
    "name": "ipython",
    "version": 3
   },
   "file_extension": ".py",
   "mimetype": "text/x-python",
   "name": "python",
   "nbconvert_exporter": "python",
   "pygments_lexer": "ipython3",
   "version": "3.8.8"
  }
 },
 "nbformat": 4,
 "nbformat_minor": 5
}
